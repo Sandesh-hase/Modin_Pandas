{
 "cells": [
  {
   "cell_type": "markdown",
   "id": "c6e40cf1-9bfe-4c70-b075-d70494b984e4",
   "metadata": {},
   "source": [
    "## Modin\n",
    "\n",
    "Modin uses Ray or Dask to provide an effortless way to speed up your pandas notebooks, scripts, and libraries. Unlike other distributed DataFrame libraries, Modin provides seamless integration and compatibility with existing pandas code. Even using the DataFrame constructor is identical.\n",
    "\n",
    "It is not necessary to know in advance the available hardware resources in order to use Modin. Additionally, it is not necessary to specify how to distribute or place data. Modin acts as a drop-in replacement for pandas, which means that you can continue using your previous pandas notebooks, unchanged, while experiencing a considerable speedup thanks to Modin, even on a single machine. Once you’ve changed your import statement, you’re ready to use Modin just like you would pandas."
   ]
  },
  {
   "cell_type": "code",
   "execution_count": 1,
   "id": "32280de5-e100-435e-be75-4a0be54bac9d",
   "metadata": {},
   "outputs": [
    {
     "name": "stdout",
     "output_type": "stream",
     "text": [
      "Collecting modin\n",
      "  Downloading modin-0.16.2-py3-none-any.whl (957 kB)\n",
      "Requirement already satisfied: psutil in c:\\users\\sandesh\\anaconda3\\lib\\site-packages (from modin) (5.8.0)\n",
      "Requirement already satisfied: fsspec in c:\\users\\sandesh\\anaconda3\\lib\\site-packages (from modin) (2021.10.1)\n",
      "Collecting pandas==1.5.1\n",
      "  Downloading pandas-1.5.1-cp39-cp39-win_amd64.whl (10.9 MB)\n",
      "Requirement already satisfied: packaging in c:\\users\\sandesh\\anaconda3\\lib\\site-packages (from modin) (21.3)\n",
      "Requirement already satisfied: numpy>=1.18.5 in c:\\users\\sandesh\\anaconda3\\lib\\site-packages (from modin) (1.22.4)\n",
      "Requirement already satisfied: python-dateutil>=2.8.1 in c:\\users\\sandesh\\anaconda3\\lib\\site-packages (from pandas==1.5.1->modin) (2.8.2)\n",
      "Requirement already satisfied: pytz>=2020.1 in c:\\users\\sandesh\\anaconda3\\lib\\site-packages (from pandas==1.5.1->modin) (2021.3)\n",
      "Requirement already satisfied: six>=1.5 in c:\\users\\sandesh\\anaconda3\\lib\\site-packages (from python-dateutil>=2.8.1->pandas==1.5.1->modin) (1.16.0)\n",
      "Requirement already satisfied: pyparsing!=3.0.5,>=2.0.2 in c:\\users\\sandesh\\anaconda3\\lib\\site-packages (from packaging->modin) (3.0.4)\n",
      "Installing collected packages: pandas, modin\n",
      "  Attempting uninstall: pandas\n",
      "    Found existing installation: pandas 1.3.4\n",
      "    Uninstalling pandas-1.3.4:\n",
      "      Successfully uninstalled pandas-1.3.4\n",
      "Successfully installed modin-0.16.2 pandas-1.5.1\n"
     ]
    },
    {
     "name": "stderr",
     "output_type": "stream",
     "text": [
      "WARNING: Ignoring invalid distribution -umpy (c:\\users\\sandesh\\anaconda3\\lib\\site-packages)\n",
      "WARNING: Ignoring invalid distribution -umpy (c:\\users\\sandesh\\anaconda3\\lib\\site-packages)\n",
      "WARNING: Ignoring invalid distribution -umpy (c:\\users\\sandesh\\anaconda3\\lib\\site-packages)\n",
      "    WARNING: Ignoring invalid distribution -umpy (c:\\users\\sandesh\\anaconda3\\lib\\site-packages)\n",
      "WARNING: Ignoring invalid distribution -umpy (c:\\users\\sandesh\\anaconda3\\lib\\site-packages)\n",
      "WARNING: Ignoring invalid distribution -umpy (c:\\users\\sandesh\\anaconda3\\lib\\site-packages)\n",
      "WARNING: Ignoring invalid distribution -umpy (c:\\users\\sandesh\\anaconda3\\lib\\site-packages)\n",
      "WARNING: Ignoring invalid distribution -umpy (c:\\users\\sandesh\\anaconda3\\lib\\site-packages)\n",
      "WARNING: Ignoring invalid distribution -umpy (c:\\users\\sandesh\\anaconda3\\lib\\site-packages)\n"
     ]
    }
   ],
   "source": [
    "# Installation\n",
    "!pip install modin"
   ]
  },
  {
   "cell_type": "code",
   "execution_count": 4,
   "id": "ea2f99ea-ec3f-46e6-857b-877817bc67f6",
   "metadata": {},
   "outputs": [
    {
     "name": "stderr",
     "output_type": "stream",
     "text": [
      "WARNING: Ignoring invalid distribution -umpy (c:\\users\\sandesh\\anaconda3\\lib\\site-packages)\n",
      "ERROR: Invalid requirement: '#'\n",
      "WARNING: Ignoring invalid distribution -umpy (c:\\users\\sandesh\\anaconda3\\lib\\site-packages)\n",
      "WARNING: Ignoring invalid distribution -umpy (c:\\users\\sandesh\\anaconda3\\lib\\site-packages)\n",
      "WARNING: Ignoring invalid distribution -umpy (c:\\users\\sandesh\\anaconda3\\lib\\site-packages)\n"
     ]
    }
   ],
   "source": [
    "# pip install \"modin[ray]\" # Install Modin dependencies and Ray to run on Ray\n",
    "# pip install \"modin[dask]\" # Install Modin dependencies and Dask to run on Dask\n",
    "!pip install modin[all] # Install all of the above"
   ]
  },
  {
   "cell_type": "markdown",
   "id": "82d0d105-1c98-4fd7-a033-b058affe9ea5",
   "metadata": {},
   "source": [
    "Modin will automatically detect which engine you have installed and use that for scheduling computation!\n",
    "\n",
    "If you want to choose a specific compute engine to run on, you can set the environment variable MODIN_ENGINE and Modin will do computation with that engine:"
   ]
  },
  {
   "cell_type": "code",
   "execution_count": null,
   "id": "2a5a1b7c-15ae-44ac-a8de-8fd30ffca325",
   "metadata": {},
   "outputs": [],
   "source": [
    "# export MODIN_ENGINE=ray  # Modin will use Ray\n",
    "# export MODIN_ENGINE=dask  # Modin will use Dask"
   ]
  },
  {
   "cell_type": "code",
   "execution_count": 9,
   "id": "ba0d8ccb-cad0-4dd8-a347-f30143459ba9",
   "metadata": {},
   "outputs": [],
   "source": [
    "# import os\n",
    "\n",
    "# os.environ[\"MODIN_ENGINE\"] = \"ray\"  # Modin will use Ray\n",
    "# os.environ[\"MODIN_ENGINE\"] = \"dask\"  # Modin will use Dask\n",
    "import time\n",
    "import modin.pandas as mpd  # modin pandas\n",
    "import pandas as pd  # normal pandas"
   ]
  },
  {
   "cell_type": "code",
   "execution_count": 50,
   "id": "8a4761bd-0098-4adf-b06e-44c6b526f5e3",
   "metadata": {},
   "outputs": [
    {
     "name": "stdout",
     "output_type": "stream",
     "text": [
      "Time taken by normal pandas\n",
      "Wall time: 2.62 s\n"
     ]
    }
   ],
   "source": [
    "%%time\n",
    "\n",
    "print(\"Time taken by normal pandas\")\n",
    "df = pd.read_csv(\"gun-violence-data_01-2013_03-2018.csv\")"
   ]
  },
  {
   "cell_type": "code",
   "execution_count": 51,
   "id": "522d8ea1-eb3d-412d-a721-61b80f95dd96",
   "metadata": {},
   "outputs": [
    {
     "name": "stdout",
     "output_type": "stream",
     "text": [
      "Time taken by modin pandas\n",
      "Wall time: 1.34 s\n"
     ]
    }
   ],
   "source": [
    "%%time\n",
    "\n",
    "print(\"Time taken by modin pandas\")\n",
    "df1 = mpd.read_csv(\"gun-violence-data_01-2013_03-2018.csv\")"
   ]
  },
  {
   "cell_type": "code",
   "execution_count": 52,
   "id": "7083f512-1e9b-4726-8d47-d10e7a20c4bd",
   "metadata": {},
   "outputs": [],
   "source": [
    "# Another approach to measure the time"
   ]
  },
  {
   "cell_type": "code",
   "execution_count": 60,
   "id": "67afac0b-7c5d-4aa7-b560-549599f35eab",
   "metadata": {},
   "outputs": [
    {
     "name": "stdout",
     "output_type": "stream",
     "text": [
      "pandas_duration:-  2.592864513397217\n"
     ]
    }
   ],
   "source": [
    "start = time.time()\n",
    "\n",
    "df = pd.read_csv(\"gun-violence-data_01-2013_03-2018.csv\")\n",
    "\n",
    "end = time.time()\n",
    "pandas_duration = end - start\n",
    "print(\"pandas_duration:- \", pandas_duration)"
   ]
  },
  {
   "cell_type": "code",
   "execution_count": 61,
   "id": "ee74d875-313a-4a71-98a3-89d5ee21c781",
   "metadata": {},
   "outputs": [
    {
     "name": "stdout",
     "output_type": "stream",
     "text": [
      "pandas_duration:-  1.1691920757293701\n"
     ]
    }
   ],
   "source": [
    "start = time.time()\n",
    "\n",
    "df1 = mpd.read_csv(\"gun-violence-data_01-2013_03-2018.csv\")\n",
    "\n",
    "end = time.time()\n",
    "modin_duration = end - start\n",
    "print(\"pandas_duration:- \", modin_duration)"
   ]
  },
  {
   "cell_type": "code",
   "execution_count": 62,
   "id": "ae97b430-fc5b-4025-82ac-abd59c96b148",
   "metadata": {},
   "outputs": [
    {
     "name": "stdout",
     "output_type": "stream",
     "text": [
      "time_diff:-  1.4236724376678467\n"
     ]
    }
   ],
   "source": [
    "# Time difference\n",
    "time_diff=pandas_duration-modin_duration\n",
    "print(\"time_diff:- \",time_diff)"
   ]
  },
  {
   "cell_type": "code",
   "execution_count": 40,
   "id": "d861a2e8-fc1c-4fd4-85b5-012b0d86d880",
   "metadata": {},
   "outputs": [
    {
     "data": {
      "text/html": [
       "<div>\n",
       "<style scoped>\n",
       "    .dataframe tbody tr th:only-of-type {\n",
       "        vertical-align: middle;\n",
       "    }\n",
       "\n",
       "    .dataframe tbody tr th {\n",
       "        vertical-align: top;\n",
       "    }\n",
       "\n",
       "    .dataframe thead th {\n",
       "        text-align: right;\n",
       "    }\n",
       "</style>\n",
       "<table border=\"1\" class=\"dataframe\">\n",
       "  <thead>\n",
       "    <tr style=\"text-align: right;\">\n",
       "      <th></th>\n",
       "      <th>incident_id</th>\n",
       "      <th>date</th>\n",
       "      <th>state</th>\n",
       "      <th>city_or_county</th>\n",
       "      <th>address</th>\n",
       "      <th>n_killed</th>\n",
       "      <th>n_injured</th>\n",
       "      <th>incident_url</th>\n",
       "      <th>source_url</th>\n",
       "      <th>incident_url_fields_missing</th>\n",
       "      <th>...</th>\n",
       "      <th>participant_age</th>\n",
       "      <th>participant_age_group</th>\n",
       "      <th>participant_gender</th>\n",
       "      <th>participant_name</th>\n",
       "      <th>participant_relationship</th>\n",
       "      <th>participant_status</th>\n",
       "      <th>participant_type</th>\n",
       "      <th>sources</th>\n",
       "      <th>state_house_district</th>\n",
       "      <th>state_senate_district</th>\n",
       "    </tr>\n",
       "  </thead>\n",
       "  <tbody>\n",
       "    <tr>\n",
       "      <th>0</th>\n",
       "      <td>461105</td>\n",
       "      <td>2013-01-01</td>\n",
       "      <td>Pennsylvania</td>\n",
       "      <td>Mckeesport</td>\n",
       "      <td>1506 Versailles Avenue and Coursin Street</td>\n",
       "      <td>0</td>\n",
       "      <td>4</td>\n",
       "      <td>http://www.gunviolencearchive.org/incident/461105</td>\n",
       "      <td>http://www.post-gazette.com/local/south/2013/0...</td>\n",
       "      <td>False</td>\n",
       "      <td>...</td>\n",
       "      <td>0::20</td>\n",
       "      <td>0::Adult 18+||1::Adult 18+||2::Adult 18+||3::A...</td>\n",
       "      <td>0::Male||1::Male||3::Male||4::Female</td>\n",
       "      <td>0::Julian Sims</td>\n",
       "      <td>NaN</td>\n",
       "      <td>0::Arrested||1::Injured||2::Injured||3::Injure...</td>\n",
       "      <td>0::Victim||1::Victim||2::Victim||3::Victim||4:...</td>\n",
       "      <td>http://pittsburgh.cbslocal.com/2013/01/01/4-pe...</td>\n",
       "      <td>NaN</td>\n",
       "      <td>NaN</td>\n",
       "    </tr>\n",
       "    <tr>\n",
       "      <th>1</th>\n",
       "      <td>460726</td>\n",
       "      <td>2013-01-01</td>\n",
       "      <td>California</td>\n",
       "      <td>Hawthorne</td>\n",
       "      <td>13500 block of Cerise Avenue</td>\n",
       "      <td>1</td>\n",
       "      <td>3</td>\n",
       "      <td>http://www.gunviolencearchive.org/incident/460726</td>\n",
       "      <td>http://www.dailybulletin.com/article/zz/201301...</td>\n",
       "      <td>False</td>\n",
       "      <td>...</td>\n",
       "      <td>0::20</td>\n",
       "      <td>0::Adult 18+||1::Adult 18+||2::Adult 18+||3::A...</td>\n",
       "      <td>0::Male</td>\n",
       "      <td>0::Bernard Gillis</td>\n",
       "      <td>NaN</td>\n",
       "      <td>0::Killed||1::Injured||2::Injured||3::Injured</td>\n",
       "      <td>0::Victim||1::Victim||2::Victim||3::Victim||4:...</td>\n",
       "      <td>http://losangeles.cbslocal.com/2013/01/01/man-...</td>\n",
       "      <td>62.0</td>\n",
       "      <td>35.0</td>\n",
       "    </tr>\n",
       "  </tbody>\n",
       "</table>\n",
       "<p>2 rows × 29 columns</p>\n",
       "</div>"
      ],
      "text/plain": [
       "   incident_id        date         state city_or_county  \\\n",
       "0       461105  2013-01-01  Pennsylvania     Mckeesport   \n",
       "1       460726  2013-01-01    California      Hawthorne   \n",
       "\n",
       "                                     address  n_killed  n_injured  \\\n",
       "0  1506 Versailles Avenue and Coursin Street         0          4   \n",
       "1               13500 block of Cerise Avenue         1          3   \n",
       "\n",
       "                                        incident_url  \\\n",
       "0  http://www.gunviolencearchive.org/incident/461105   \n",
       "1  http://www.gunviolencearchive.org/incident/460726   \n",
       "\n",
       "                                          source_url  \\\n",
       "0  http://www.post-gazette.com/local/south/2013/0...   \n",
       "1  http://www.dailybulletin.com/article/zz/201301...   \n",
       "\n",
       "   incident_url_fields_missing  ...  participant_age  \\\n",
       "0                        False  ...            0::20   \n",
       "1                        False  ...            0::20   \n",
       "\n",
       "                               participant_age_group  \\\n",
       "0  0::Adult 18+||1::Adult 18+||2::Adult 18+||3::A...   \n",
       "1  0::Adult 18+||1::Adult 18+||2::Adult 18+||3::A...   \n",
       "\n",
       "                     participant_gender   participant_name  \\\n",
       "0  0::Male||1::Male||3::Male||4::Female     0::Julian Sims   \n",
       "1                               0::Male  0::Bernard Gillis   \n",
       "\n",
       "   participant_relationship  \\\n",
       "0                       NaN   \n",
       "1                       NaN   \n",
       "\n",
       "                                  participant_status  \\\n",
       "0  0::Arrested||1::Injured||2::Injured||3::Injure...   \n",
       "1      0::Killed||1::Injured||2::Injured||3::Injured   \n",
       "\n",
       "                                    participant_type  \\\n",
       "0  0::Victim||1::Victim||2::Victim||3::Victim||4:...   \n",
       "1  0::Victim||1::Victim||2::Victim||3::Victim||4:...   \n",
       "\n",
       "                                             sources state_house_district  \\\n",
       "0  http://pittsburgh.cbslocal.com/2013/01/01/4-pe...                  NaN   \n",
       "1  http://losangeles.cbslocal.com/2013/01/01/man-...                 62.0   \n",
       "\n",
       "  state_senate_district  \n",
       "0                   NaN  \n",
       "1                  35.0  \n",
       "\n",
       "[2 rows x 29 columns]"
      ]
     },
     "execution_count": 40,
     "metadata": {},
     "output_type": "execute_result"
    }
   ],
   "source": [
    "df.head(2)"
   ]
  },
  {
   "cell_type": "code",
   "execution_count": null,
   "id": "36d2d5bb-b5b6-4daa-a986-c753edcd19ef",
   "metadata": {},
   "outputs": [],
   "source": []
  },
  {
   "cell_type": "code",
   "execution_count": null,
   "id": "4e4a9337-63b8-44e2-be4a-8988a5054190",
   "metadata": {},
   "outputs": [],
   "source": []
  },
  {
   "cell_type": "markdown",
   "id": "8aa56e73-afb3-440a-8736-c898656f1581",
   "metadata": {},
   "source": [
    "### Practice"
   ]
  },
  {
   "cell_type": "code",
   "execution_count": 20,
   "id": "9b82fc4d-3c1b-4ebd-a257-4d3152e7742b",
   "metadata": {},
   "outputs": [],
   "source": [
    "## Applying function on column\n",
    "\n",
    "def multiply(value):\n",
    "    value=value*2\n",
    "    return value"
   ]
  },
  {
   "cell_type": "code",
   "execution_count": 26,
   "id": "9e557e11-0178-430b-be8c-4d63848846f7",
   "metadata": {},
   "outputs": [
    {
     "name": "stdout",
     "output_type": "stream",
     "text": [
      "Time taken by normal pandas\n",
      "Wall time: 58 ms\n"
     ]
    }
   ],
   "source": [
    "%%time\n",
    "print(\"Time taken by normal pandas\")\n",
    "df['state_house_district']=df['state_house_district'].apply(multiply)"
   ]
  },
  {
   "cell_type": "code",
   "execution_count": 30,
   "id": "77c77df0-bbea-4ee6-bf0d-68a95d8550ab",
   "metadata": {},
   "outputs": [
    {
     "name": "stdout",
     "output_type": "stream",
     "text": [
      "Time taken by modin pandas\n",
      "Wall time: 153 ms\n"
     ]
    }
   ],
   "source": [
    "%%time\n",
    "print(\"Time taken by modin pandas\")\n",
    "df1['state_house_district']=df1['state_house_district'].apply(multiply)"
   ]
  },
  {
   "cell_type": "code",
   "execution_count": 42,
   "id": "2d9f5d11-6a20-4d5e-95b8-79240ae637bb",
   "metadata": {},
   "outputs": [],
   "source": [
    "df2=df"
   ]
  },
  {
   "cell_type": "code",
   "execution_count": 48,
   "id": "e439643b-42a2-4351-9947-9fa53b3d2d9b",
   "metadata": {},
   "outputs": [
    {
     "name": "stdout",
     "output_type": "stream",
     "text": [
      "Time taken by normal pandas\n",
      "Wall time: 199 ms\n"
     ]
    }
   ],
   "source": [
    "%%time\n",
    "print(\"Time taken by normal pandas\")\n",
    "df3=pd.concat([df,df2])"
   ]
  },
  {
   "cell_type": "code",
   "execution_count": 49,
   "id": "d3cd2914-5133-4a5d-8925-3ffabc065b9b",
   "metadata": {},
   "outputs": [
    {
     "name": "stdout",
     "output_type": "stream",
     "text": [
      "Time taken by normal pandas\n"
     ]
    },
    {
     "name": "stderr",
     "output_type": "stream",
     "text": [
      "UserWarning: Distributing <class 'pandas.core.frame.DataFrame'> object. This may take some time.\n"
     ]
    },
    {
     "name": "stdout",
     "output_type": "stream",
     "text": [
      "Wall time: 2.69 s\n"
     ]
    }
   ],
   "source": [
    "%%time\n",
    "print(\"Time taken by normal pandas\")\n",
    "df3=mpd.concat([df,df2])"
   ]
  },
  {
   "cell_type": "code",
   "execution_count": null,
   "id": "001b77cf-6991-4be8-8ea4-59ba5ca5dfd6",
   "metadata": {},
   "outputs": [],
   "source": []
  }
 ],
 "metadata": {
  "kernelspec": {
   "display_name": "Python 3 (ipykernel)",
   "language": "python",
   "name": "python3"
  },
  "language_info": {
   "codemirror_mode": {
    "name": "ipython",
    "version": 3
   },
   "file_extension": ".py",
   "mimetype": "text/x-python",
   "name": "python",
   "nbconvert_exporter": "python",
   "pygments_lexer": "ipython3",
   "version": "3.9.7"
  }
 },
 "nbformat": 4,
 "nbformat_minor": 5
}
